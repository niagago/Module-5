{
 "cells": [
  {
   "cell_type": "code",
   "execution_count": 2,
   "id": "232c607c-2936-4961-964d-76f0682c08c8",
   "metadata": {},
   "outputs": [
    {
     "name": "stdout",
     "output_type": "stream",
     "text": [
      "     Timestamp Longitude  Latitude\n",
      "0   1657895875    2.7652  -39.1434\n",
      "1   1657895886    3.4485  -38.7147\n",
      "2   1657895897    4.0926  -38.3013\n",
      "3   1657895907    4.7289  -37.8839\n",
      "4   1657895918    5.3574  -37.4627\n",
      "..         ...       ...       ...\n",
      "95  1657896871   45.4013    8.3983\n",
      "96  1657896881   45.7892    8.9281\n",
      "97  1657896891   46.1599    9.4323\n",
      "98  1657896902   46.5504    9.9611\n",
      "99  1657896913   46.9424   10.4895\n",
      "\n",
      "[100 rows x 3 columns]\n"
     ]
    }
   ],
   "source": [
    "import matplotlib.pyplot as plt\n",
    "import requests\n",
    "import pandas as pd\n",
    "import time\n",
    "import json\n",
    "\n",
    "data = []\n",
    "\n",
    "for i in range(0,100):\n",
    "    response = requests.get('http://api.open-notify.org/iss-now.json')\n",
    "    text = response.text\n",
    "    ans = json.loads(text)\n",
    "    \n",
    "    data.append((ans['timestamp'], ans['iss_position']['longitude'], ans['iss_position']['latitude']))\n",
    "    time.sleep(10)\n",
    "    \n",
    "df = pd.DataFrame(data, columns = ['Timestamp', 'Longitude', 'Latitude'])\n",
    "print(df)"
   ]
  },
  {
   "cell_type": "code",
   "execution_count": 3,
   "id": "bfc45f4a-d401-4814-90f2-f67cd3b67c40",
   "metadata": {},
   "outputs": [],
   "source": [
    "df.to_csv('space-data.csv')\n",
    "df=pd.read_csv('space-data.csv')"
   ]
  },
  {
   "cell_type": "code",
   "execution_count": 4,
   "id": "56c26b20-5950-44d2-8b17-5d4d102a4bef",
   "metadata": {},
   "outputs": [
    {
     "data": {
      "text/html": [
       "<div>\n",
       "<style scoped>\n",
       "    .dataframe tbody tr th:only-of-type {\n",
       "        vertical-align: middle;\n",
       "    }\n",
       "\n",
       "    .dataframe tbody tr th {\n",
       "        vertical-align: top;\n",
       "    }\n",
       "\n",
       "    .dataframe thead th {\n",
       "        text-align: right;\n",
       "    }\n",
       "</style>\n",
       "<table border=\"1\" class=\"dataframe\">\n",
       "  <thead>\n",
       "    <tr style=\"text-align: right;\">\n",
       "      <th></th>\n",
       "      <th>Unnamed: 0</th>\n",
       "      <th>Timestamp</th>\n",
       "      <th>Longitude</th>\n",
       "      <th>Latitude</th>\n",
       "    </tr>\n",
       "  </thead>\n",
       "  <tbody>\n",
       "    <tr>\n",
       "      <th>0</th>\n",
       "      <td>0</td>\n",
       "      <td>1657895875</td>\n",
       "      <td>2.7652</td>\n",
       "      <td>-39.1434</td>\n",
       "    </tr>\n",
       "    <tr>\n",
       "      <th>1</th>\n",
       "      <td>1</td>\n",
       "      <td>1657895886</td>\n",
       "      <td>3.4485</td>\n",
       "      <td>-38.7147</td>\n",
       "    </tr>\n",
       "    <tr>\n",
       "      <th>2</th>\n",
       "      <td>2</td>\n",
       "      <td>1657895897</td>\n",
       "      <td>4.0926</td>\n",
       "      <td>-38.3013</td>\n",
       "    </tr>\n",
       "    <tr>\n",
       "      <th>3</th>\n",
       "      <td>3</td>\n",
       "      <td>1657895907</td>\n",
       "      <td>4.7289</td>\n",
       "      <td>-37.8839</td>\n",
       "    </tr>\n",
       "    <tr>\n",
       "      <th>4</th>\n",
       "      <td>4</td>\n",
       "      <td>1657895918</td>\n",
       "      <td>5.3574</td>\n",
       "      <td>-37.4627</td>\n",
       "    </tr>\n",
       "    <tr>\n",
       "      <th>...</th>\n",
       "      <td>...</td>\n",
       "      <td>...</td>\n",
       "      <td>...</td>\n",
       "      <td>...</td>\n",
       "    </tr>\n",
       "    <tr>\n",
       "      <th>95</th>\n",
       "      <td>95</td>\n",
       "      <td>1657896871</td>\n",
       "      <td>45.4013</td>\n",
       "      <td>8.3983</td>\n",
       "    </tr>\n",
       "    <tr>\n",
       "      <th>96</th>\n",
       "      <td>96</td>\n",
       "      <td>1657896881</td>\n",
       "      <td>45.7892</td>\n",
       "      <td>8.9281</td>\n",
       "    </tr>\n",
       "    <tr>\n",
       "      <th>97</th>\n",
       "      <td>97</td>\n",
       "      <td>1657896891</td>\n",
       "      <td>46.1599</td>\n",
       "      <td>9.4323</td>\n",
       "    </tr>\n",
       "    <tr>\n",
       "      <th>98</th>\n",
       "      <td>98</td>\n",
       "      <td>1657896902</td>\n",
       "      <td>46.5504</td>\n",
       "      <td>9.9611</td>\n",
       "    </tr>\n",
       "    <tr>\n",
       "      <th>99</th>\n",
       "      <td>99</td>\n",
       "      <td>1657896913</td>\n",
       "      <td>46.9424</td>\n",
       "      <td>10.4895</td>\n",
       "    </tr>\n",
       "  </tbody>\n",
       "</table>\n",
       "<p>100 rows × 4 columns</p>\n",
       "</div>"
      ],
      "text/plain": [
       "    Unnamed: 0   Timestamp  Longitude  Latitude\n",
       "0            0  1657895875     2.7652  -39.1434\n",
       "1            1  1657895886     3.4485  -38.7147\n",
       "2            2  1657895897     4.0926  -38.3013\n",
       "3            3  1657895907     4.7289  -37.8839\n",
       "4            4  1657895918     5.3574  -37.4627\n",
       "..         ...         ...        ...       ...\n",
       "95          95  1657896871    45.4013    8.3983\n",
       "96          96  1657896881    45.7892    8.9281\n",
       "97          97  1657896891    46.1599    9.4323\n",
       "98          98  1657896902    46.5504    9.9611\n",
       "99          99  1657896913    46.9424   10.4895\n",
       "\n",
       "[100 rows x 4 columns]"
      ]
     },
     "execution_count": 4,
     "metadata": {},
     "output_type": "execute_result"
    }
   ],
   "source": [
    "df"
   ]
  },
  {
   "cell_type": "code",
   "execution_count": 5,
   "id": "27ecdef5-480b-4d39-874c-58e73d28c163",
   "metadata": {},
   "outputs": [
    {
     "data": {
      "text/plain": [
       "0      2.7652\n",
       "1      3.4485\n",
       "2      4.0926\n",
       "3      4.7289\n",
       "4      5.3574\n",
       "       ...   \n",
       "95    45.4013\n",
       "96    45.7892\n",
       "97    46.1599\n",
       "98    46.5504\n",
       "99    46.9424\n",
       "Name: Longitude, Length: 100, dtype: float64"
      ]
     },
     "execution_count": 5,
     "metadata": {},
     "output_type": "execute_result"
    }
   ],
   "source": [
    "x = df['Longitude']\n",
    "x"
   ]
  },
  {
   "cell_type": "code",
   "execution_count": 6,
   "id": "58ea3063-eb8e-4f3e-a530-a163c58928cd",
   "metadata": {},
   "outputs": [
    {
     "data": {
      "text/plain": [
       "0    -39.1434\n",
       "1    -38.7147\n",
       "2    -38.3013\n",
       "3    -37.8839\n",
       "4    -37.4627\n",
       "       ...   \n",
       "95     8.3983\n",
       "96     8.9281\n",
       "97     9.4323\n",
       "98     9.9611\n",
       "99    10.4895\n",
       "Name: Latitude, Length: 100, dtype: float64"
      ]
     },
     "execution_count": 6,
     "metadata": {},
     "output_type": "execute_result"
    }
   ],
   "source": [
    "y = df['Latitude']\n",
    "y"
   ]
  },
  {
   "cell_type": "code",
   "execution_count": 7,
   "id": "43932e8b-5980-4084-82e9-9c0fdcccd64f",
   "metadata": {},
   "outputs": [
    {
     "data": {
      "image/png": "[encoded data removed]",
      "text/plain": [
       "<Figure size 432x288 with 1 Axes>"
      ]
     },
     "metadata": {
      "needs_background": "light"
     },
     "output_type": "display_data"
    }
   ],
   "source": [
    "plt.plot(x, y, 'm')\n",
    "plt.xlabel('Longitude')\n",
    "plt.ylabel('Latitude')\n",
    "plt.title('ISS Path')\n",
    "plt.show()"
   ]
  },
  {
   "cell_type": "code",
   "execution_count": null,
   "id": "cb3742f9-70ff-4866-ba4c-3c06d495f818",
   "metadata": {},
   "outputs": [],
   "source": []
  }
 ],
 "metadata": {
  "kernelspec": {
   "display_name": "Python 3 (ipykernel)",
   "language": "python",
   "name": "python3"
  },
  "language_info": {
   "codemirror_mode": {
    "name": "ipython",
    "version": 3
   },
   "file_extension": ".py",
   "mimetype": "text/x-python",
   "name": "python",
   "nbconvert_exporter": "python",
   "pygments_lexer": "ipython3",
   "version": "3.9.12"
  }
 },
 "nbformat": 4,
 "nbformat_minor": 5
}
